{
 "metadata": {
  "language_info": {
   "codemirror_mode": {
    "name": "ipython",
    "version": 3
   },
   "file_extension": ".py",
   "mimetype": "text/x-python",
   "name": "python",
   "nbconvert_exporter": "python",
   "pygments_lexer": "ipython3",
   "version": "3.8.3-final"
  },
  "orig_nbformat": 2,
  "kernelspec": {
   "name": "python3",
   "display_name": "Python 3",
   "language": "python"
  }
 },
 "nbformat": 4,
 "nbformat_minor": 2,
 "cells": [
  {
   "cell_type": "code",
   "execution_count": 1,
   "metadata": {},
   "outputs": [],
   "source": [
    "import pandas as pd \n",
    "import numpy as np \n",
    "import matplotlib.pyplot as py \n"
   ]
  },
  {
   "cell_type": "code",
   "execution_count": 3,
   "metadata": {},
   "outputs": [],
   "source": [
    "#if and else statement \n",
    "if True: \n",
    "    pass\n",
    "else: \n",
    "    pass"
   ]
  },
  {
   "cell_type": "code",
   "execution_count": 21,
   "metadata": {},
   "outputs": [
    {
     "output_type": "stream",
     "name": "stdout",
     "text": [
      "[0, 1, 2, 3, 4, 5, 6, 7, 8, 9, 10, 11]\n"
     ]
    }
   ],
   "source": [
    "container = []\n",
    "def rnager(x)\n",
    "    for item in range(x):\n",
    "        if container:\n",
    "            container.append(item)\n",
    "        else:\n",
    "            container =[]\n",
    "            container.append(item)\n",
    "    return container\n",
    "\n",
    "print(container)\n",
    "        "
   ]
  },
  {
   "cell_type": "code",
   "execution_count": 80,
   "metadata": {},
   "outputs": [
    {
     "output_type": "error",
     "ename": "SyntaxError",
     "evalue": "'return' outside function (<ipython-input-80-abc9975d91ba>, line 10)",
     "traceback": [
      "\u001b[1;36m  File \u001b[1;32m\"<ipython-input-80-abc9975d91ba>\"\u001b[1;36m, line \u001b[1;32m10\u001b[0m\n\u001b[1;33m    return container\u001b[0m\n\u001b[1;37m    ^\u001b[0m\n\u001b[1;31mSyntaxError\u001b[0m\u001b[1;31m:\u001b[0m 'return' outside function\n"
     ]
    }
   ],
   "source": [
    "#So if the user enters a list, this code will iterate over the list and append it into the container.\n",
    "def ranger(x):\n",
    "    if type(x) == list:\n",
    "        for item in range(x):\n",
    "            if container:\n",
    "                container.append(item)\n",
    "            else:\n",
    "                container =[]\n",
    "                container.append(item)\n",
    "return container\n",
    "x= [1,2,3,4]\n",
    "ranger(x)"
   ]
  },
  {
   "cell_type": "code",
   "execution_count": 57,
   "metadata": {},
   "outputs": [
    {
     "output_type": "stream",
     "name": "stdout",
     "text": [
      "[1, 4, 3, 8, 5, 12]\n"
     ]
    }
   ],
   "source": [
    "#This function will multiple the even numbers by 2 and then print out the multiplies even numbers along the odd no's\n",
    "a = [1,2,3,4,5,6]\n",
    "b =[]\n",
    "\n",
    "for i in a:\n",
    "    if i % 2 == 0:\n",
    "        b.append(i*2)\n",
    "    else:\n",
    "        b.append(i)\n",
    "\n",
    "a = b\n",
    "print(a)\n",
    "\n",
    "       \n",
    "\n",
    "        \n",
    "\n"
   ]
  },
  {
   "cell_type": "code",
   "execution_count": 62,
   "metadata": {},
   "outputs": [],
   "source": [
    "#Exception Handling -> Whenever we encounter an error in Python \n",
    "def mapper(x):\n",
    "    if x%2 == 0:\n",
    "        x = x*2\n",
    "    else: \n",
    "        x = x\n",
    "    return x\n",
    "\n",
    "def mapper2(x):\n",
    "    if x % 2 == 0:\n",
    "        x = x / 2\n",
    "    else:\n",
    "        x = x \n",
    "    print (x) \n",
    "\n",
    "\n",
    "def mapper3(x):\n",
    "    if x % 2 == 0:\n",
    "        x = x * 2\n",
    "    else: \n",
    "        x = x\n",
    "    print(x)"
   ]
  },
  {
   "cell_type": "code",
   "execution_count": 66,
   "metadata": {},
   "outputs": [
    {
     "output_type": "stream",
     "name": "stdout",
     "text": [
      "wrong\nmy final answer is 1\n"
     ]
    }
   ],
   "source": [
    "#This is an example of exception handling\n",
    "\n",
    "def sample(x):\n",
    "    try:\n",
    "        #So, this is wrong\n",
    "        x = x/0\n",
    "        print(x)\n",
    "        #so if it is wrong we then say \"except\"\n",
    "    except:\n",
    "        print('wrong')\n",
    "        #Then we say \"finally, and then say what the answer should have been\"\n",
    "    finally:\n",
    "        y = 1\n",
    "        x = x/y\n",
    "        print(f'my final answer is {y}')\n",
    "\n",
    "sample(3)"
   ]
  },
  {
   "cell_type": "code",
   "execution_count": 77,
   "metadata": {},
   "outputs": [
    {
     "output_type": "error",
     "ename": "TypeError",
     "evalue": "example() missing 1 required positional argument: 'a'",
     "traceback": [
      "\u001b[1;31m---------------------------------------------------------------------------\u001b[0m",
      "\u001b[1;31mTypeError\u001b[0m                                 Traceback (most recent call last)",
      "\u001b[1;32m<ipython-input-77-20fde579d234>\u001b[0m in \u001b[0;36m<module>\u001b[1;34m\u001b[0m\n\u001b[0;32m      8\u001b[0m         \u001b[0mprint\u001b[0m\u001b[1;33m(\u001b[0m\u001b[1;34m'It should be an integer'\u001b[0m\u001b[1;33m)\u001b[0m\u001b[1;33m\u001b[0m\u001b[1;33m\u001b[0m\u001b[0m\n\u001b[0;32m      9\u001b[0m \u001b[1;33m\u001b[0m\u001b[0m\n\u001b[1;32m---> 10\u001b[1;33m \u001b[0mexample\u001b[0m\u001b[1;33m(\u001b[0m\u001b[1;33m)\u001b[0m\u001b[1;33m\u001b[0m\u001b[1;33m\u001b[0m\u001b[0m\n\u001b[0m",
      "\u001b[1;31mTypeError\u001b[0m: example() missing 1 required positional argument: 'a'"
     ]
    }
   ],
   "source": [
    "#Another example of Exception handling is using Assert \n",
    "a = (input(\"Enter a number\")) \n",
    "\n",
    "def example(a):\n",
    "    try:\n",
    "        assert(type(a) == int )\n",
    "    except:\n",
    "        print('It should be an integer')\n",
    "\n",
    "example()"
   ]
  },
  {
   "cell_type": "code",
   "execution_count": null,
   "metadata": {},
   "outputs": [],
   "source": []
  }
 ]
}